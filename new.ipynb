#from pycaret.regression import load_model, predict_model
from sklearn.ensemble import GradientBoostingRegressor
import streamlit as st
import pandas as pd
import numpy as np
import pickle


favorite_color = pickle.load( open( "save.p", "rb" ) )
model = pickle.load(open( "model.p", "rb" ))
pipeline = pickle.load(open( "pipeline.p", "rb" ))


def predict(model, input_df):
    transform_data = pipeline.fit_transform(input_df)
    predictions_df = model.predict(transform_data)
   # predictions = predictions_df['Label'][0]
    return predictionsr